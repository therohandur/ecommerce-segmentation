{
 "cells": [
  {
   "cell_type": "markdown",
   "id": "b7e361c8",
   "metadata": {},
   "source": [
    "# 🛍️ E-Commerce Customer Segmentation using RFM and K-Means Clustering\n",
    "In this notebook, we analyze customer data from an online retail dataset to segment customers using RFM analysis and K-Means clustering. The goal is to derive insights to inform marketing and inventory strategies."
   ]
  },
  {
   "cell_type": "code",
   "execution_count": null,
   "id": "31cd48b9",
   "metadata": {},
   "outputs": [],
   "source": [
    "import pandas as pd\n",
    "import numpy as np\n",
    "import matplotlib.pyplot as plt\n",
    "import seaborn as sns\n",
    "from sklearn.preprocessing import StandardScaler\n",
    "from sklearn.cluster import KMeans\n",
    "from datetime import datetime"
   ]
  },
  {
   "cell_type": "markdown",
   "id": "ebb17a6f",
   "metadata": {},
   "source": [
    "## 📥 Load the Dataset"
   ]
  },
  {
   "cell_type": "code",
   "execution_count": null,
   "id": "4a588567",
   "metadata": {},
   "outputs": [],
   "source": [
    "# Replace with your file path or use Kaggle API to load\n",
    "# df = pd.read_csv('OnlineRetail.csv')\n",
    "df = pd.read_excel('Online Retail.xlsx')\n",
    "df.head()"
   ]
  },
  {
   "cell_type": "markdown",
   "id": "5c92b327",
   "metadata": {},
   "source": [
    "## 🧹 Data Cleaning"
   ]
  },
  {
   "cell_type": "code",
   "execution_count": null,
   "id": "352b6dcf",
   "metadata": {},
   "outputs": [],
   "source": [
    "df.dropna(subset=['CustomerID'], inplace=True)\n",
    "df = df[~df['InvoiceNo'].astype(str).str.startswith('C')]\n",
    "df['TotalPrice'] = df['Quantity'] * df['UnitPrice']\n",
    "df['InvoiceDate'] = pd.to_datetime(df['InvoiceDate'])\n",
    "df.head()"
   ]
  },
  {
   "cell_type": "markdown",
   "id": "cdeff981",
   "metadata": {},
   "source": [
    "## 📊 RFM Analysis"
   ]
  },
  {
   "cell_type": "code",
   "execution_count": null,
   "id": "f91c7754",
   "metadata": {},
   "outputs": [],
   "source": [
    "snapshot_date = df['InvoiceDate'].max() + pd.Timedelta(days=1)\n",
    "rfm = df.groupby('CustomerID').agg({\n",
    "    'InvoiceDate': lambda x: (snapshot_date - x.max()).days,\n",
    "    'InvoiceNo': 'nunique',\n",
    "    'TotalPrice': 'sum'\n",
    "})\n",
    "rfm.rename(columns={\n",
    "    'InvoiceDate': 'Recency',\n",
    "    'InvoiceNo': 'Frequency',\n",
    "    'TotalPrice': 'Monetary'\n",
    "}, inplace=True)\n",
    "rfm.head()"
   ]
  },
  {
   "cell_type": "markdown",
   "id": "7dcb85ff",
   "metadata": {},
   "source": [
    "## 📈 K-Means Clustering"
   ]
  },
  {
   "cell_type": "code",
   "execution_count": null,
   "id": "6eb603c2",
   "metadata": {},
   "outputs": [],
   "source": [
    "scaler = StandardScaler()\n",
    "rfm_scaled = scaler.fit_transform(rfm)\n",
    "\n",
    "# Determine optimal number of clusters (Elbow Method)\n",
    "inertia = []\n",
    "for k in range(1, 11):\n",
    "    kmeans = KMeans(n_clusters=k, random_state=42)\n",
    "    kmeans.fit(rfm_scaled)\n",
    "    inertia.append(kmeans.inertia_)\n",
    "\n",
    "plt.figure(figsize=(8,4))\n",
    "plt.plot(range(1, 11), inertia, marker='o')\n",
    "plt.title('Elbow Method')\n",
    "plt.xlabel('Number of clusters')\n",
    "plt.ylabel('Inertia')\n",
    "plt.show()"
   ]
  },
  {
   "cell_type": "code",
   "execution_count": null,
   "id": "2af0ba3d",
   "metadata": {},
   "outputs": [],
   "source": [
    "kmeans = KMeans(n_clusters=4, random_state=42)\n",
    "rfm['Cluster'] = kmeans.fit_predict(rfm_scaled)\n",
    "rfm.head()"
   ]
  },
  {
   "cell_type": "markdown",
   "id": "bbf9349b",
   "metadata": {},
   "source": [
    "## 📉 Cluster Visualization"
   ]
  },
  {
   "cell_type": "code",
   "execution_count": null,
   "id": "047216d8",
   "metadata": {},
   "outputs": [],
   "source": [
    "sns.boxplot(x='Cluster', y='Recency', data=rfm)\n",
    "plt.title('Recency by Cluster')\n",
    "plt.show()\n",
    "\n",
    "sns.boxplot(x='Cluster', y='Frequency', data=rfm)\n",
    "plt.title('Frequency by Cluster')\n",
    "plt.show()\n",
    "\n",
    "sns.boxplot(x='Cluster', y='Monetary', data=rfm)\n",
    "plt.title('Monetary by Cluster')\n",
    "plt.show()"
   ]
  },
  {
   "cell_type": "markdown",
   "id": "ba960668",
   "metadata": {},
   "source": [
    "## 🔍 Insights & Recommendations\n",
    "- **Cluster 0:** Likely VIPs (low Recency, high Frequency and Monetary)\n",
    "- **Cluster 1:** At-risk customers (high Recency, low Frequency and Monetary)\n",
    "- **Cluster 2:** Potential loyalists (medium across the board)\n",
    "- **Cluster 3:** One-time buyers (low Frequency)\n",
    "\n",
    "### 📢 Marketing Strategy:\n",
    "- Retarget at-risk customers with discounts or emails.\n",
    "- Offer loyalty programs for potential loyalists.\n",
    "- Optimize inventory for products bought by VIPs."
   ]
  }
 ],
 "metadata": {},
 "nbformat": 4,
 "nbformat_minor": 5
}
